{
 "cells": [
  {
   "cell_type": "markdown",
   "id": "cc0f40f1-43f4-4c5d-981d-cbd481d032e1",
   "metadata": {},
   "source": [
    "# Neural Style Transfer"
   ]
  },
  {
   "cell_type": "markdown",
   "id": "40d24d8f-4352-4364-b09d-4e1bf47bb236",
   "metadata": {},
   "source": [
    "Jupyter notebook that sequentially runs the code in `main.py`. We start by installing all the necessary requirements from `requirements.txt` and importing the libraries."
   ]
  },
  {
   "cell_type": "markdown",
   "id": "6301b2ea-397b-45a4-96cd-3c58bfba7a24",
   "metadata": {},
   "source": [
    "## Requirements"
   ]
  },
  {
   "cell_type": "code",
   "execution_count": null,
   "id": "64509858-4c8c-4fd1-8bc5-621aca84118a",
   "metadata": {},
   "outputs": [],
   "source": [
    "!pip install -r requirements.txt"
   ]
  },
  {
   "cell_type": "code",
   "execution_count": null,
   "id": "0f0d7ccf-806a-4f7d-b48b-2a786e621e6d",
   "metadata": {},
   "outputs": [],
   "source": [
    "# Import dependencies\n",
    "import sys\n",
    "import os\n",
    "import matplotlib.pyplot as plt\n",
    "import torch as T\n",
    "import torch.nn.functional as functional\n",
    "import torch.optim as optim\n",
    "import torch.nn as nn\n",
    "from utils import image_loader, imshow, save_result\n",
    "from ConvNets import *\n",
    "from NeuralST import NST"
   ]
  },
  {
   "cell_type": "markdown",
   "id": "e625c4db-fbb4-4b66-b316-e8a9b224d468",
   "metadata": {},
   "source": [
    "## Content, Style and Input Images"
   ]
  },
  {
   "cell_type": "markdown",
   "id": "eebc9c4d-64d0-4263-9110-9118ca9ff4b8",
   "metadata": {},
   "source": [
    "Neural Style Transfer allows you to take an image and reproduce it with a new artistic style. The algorithm takes three images, an input-image, a content-image, and a style-image, and changes the input to resemble the content of the content-image and the artistic style of the style-image. Therefore, each image should be picked as:\n",
    "- Content Image: Image you want to apply the style to. Placed inside `content_images/` folder.\n",
    "- Style Image: Image you want to extract the style from. Placed inside `style_images/` folder.\n",
    "- Input Image: Image that is iteratively modified by the content and style image weights.\n",
    "\n",
    "\n",
    "This input-image is usually picked to be the same content-image, so the final result resembles the details of the content-image more clearly. Otherwise, it can also be picked as white noise, so the style transfer is not overbiased by the content image. By default, we will use the content image as the input image."
   ]
  },
  {
   "cell_type": "code",
   "execution_count": null,
   "id": "a889cc5c-6599-41d7-8b83-cd5e1fbc9e96",
   "metadata": {},
   "outputs": [],
   "source": [
    "## Select content and style images. They should be placed in content_images/ and style_images/ folders.\n",
    "content_img = 'bodybuilder.jpg'\n",
    "style_img = 'starry_night.jpg'\n",
    "\n",
    "## Use content image as input image? (otherwise white noise is used)\n",
    "start_from_content = True"
   ]
  },
  {
   "cell_type": "code",
   "execution_count": null,
   "id": "92f07e99-3bdb-4393-916e-52f3be060299",
   "metadata": {},
   "outputs": [],
   "source": [
    "content_img = os.path.join('content_images', content_img)\n",
    "style_img = os.path.join('style_images', style_img)"
   ]
  },
  {
   "cell_type": "markdown",
   "id": "cd09471b-2260-44ba-8df3-14c0a31faa24",
   "metadata": {},
   "source": [
    "## Parameters tuning"
   ]
  },
  {
   "cell_type": "markdown",
   "id": "e846b001-03b6-4adc-ac76-b74b5cda70b6",
   "metadata": {},
   "source": [
    "First we have to set some hyperparameters for the Neural Style Transfer model training. These hyperparameters are:\n",
    "- Image dimensions: The output image resolution in pixels. For now only an aspect ratio of 1:1 is supported. Beware of memory usage, for running this notebook in a personal computer we recommend a maximum resolution of 512x512. \n",
    "- Style weight: How much style is transfered to the content image. The higher the style weight is the more the final output image will resemble the style image. A value of 1e5 is set as default.\n",
    "- Verbose: Sets whether to show the input image evolution (every 100 iterations) throughout the training process."
   ]
  },
  {
   "cell_type": "code",
   "execution_count": null,
   "id": "aabeb913-a6ad-4839-8cd5-d7fedf45d3b1",
   "metadata": {},
   "outputs": [],
   "source": [
    "## Set image dimensions (aspect ratio 1:1)\n",
    "img_dims = 512\n",
    "\n",
    "## Set style image weight\n",
    "style_weight = 1e5\n",
    "\n",
    "## Verbose\n",
    "verbose = True"
   ]
  },
  {
   "cell_type": "markdown",
   "id": "e448e045-7610-4a16-926f-26b47eb13e9d",
   "metadata": {},
   "source": [
    "## Running Neural Style Transfer"
   ]
  },
  {
   "cell_type": "markdown",
   "id": "f16c7536-954f-457e-8cc3-92f079650d00",
   "metadata": {},
   "source": [
    "Now is time to run the Neural Style Transfer model using VGG-19 Convolutional Neural Network. It is set to run by default on Nvidia graphic cards (AMD is not supported). The training process runtime is highly impacted by the image dimensions set before and might crash if your dedicated RAM memory is not high enough."
   ]
  },
  {
   "cell_type": "code",
   "execution_count": null,
   "id": "adfa2212-2a99-484c-abf2-821bb257bef8",
   "metadata": {},
   "outputs": [],
   "source": [
    "st_model = VGG_NSTWrapper()\n",
    "images = NST(st_model, img_dims, content_img, style_img,\n",
    "             start_from_content=start_from_content, verbose=verbose,\n",
    "             n_iters=500, style_weight=style_weight)"
   ]
  },
  {
   "cell_type": "markdown",
   "id": "bfcc5879-63d4-41aa-ad3e-28b6561808f3",
   "metadata": {},
   "source": [
    "Save the final image inside `results/` folder:"
   ]
  },
  {
   "cell_type": "code",
   "execution_count": null,
   "id": "036d7ec2-7dfb-4ca7-8e63-9bb59b4fcfb5",
   "metadata": {},
   "outputs": [],
   "source": [
    "save_result(images[-1], 'VGG', content_img, style_img)"
   ]
  }
 ],
 "metadata": {
  "kernelspec": {
   "display_name": "Python 3 (ipykernel)",
   "language": "python",
   "name": "python3"
  },
  "language_info": {
   "codemirror_mode": {
    "name": "ipython",
    "version": 3
   },
   "file_extension": ".py",
   "mimetype": "text/x-python",
   "name": "python",
   "nbconvert_exporter": "python",
   "pygments_lexer": "ipython3",
   "version": "3.9.7"
  }
 },
 "nbformat": 4,
 "nbformat_minor": 5
}
